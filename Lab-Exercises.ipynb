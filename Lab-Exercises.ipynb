{
 "cells": [
  {
   "cell_type": "markdown",
   "metadata": {},
   "source": [
    "# Lab Exercises\n",
    "\n",
    "## Mini Group: Making a Repository\n",
    "\n",
    "**N.B**:: DO NOT SUBMIT THIS FILE. It is just a guide. Commiting this file will NOT be counted as part of your submission!\n"
   ]
  },
  {
   "cell_type": "markdown",
   "metadata": {},
   "source": [
    "## Part 1 - Last Week: The Repository (This should be done!)\n",
    "\n",
    "First off, you're going to be continuing this project into next week, so, if you don't finish in time, you're not off the hook. You'll need everything from this week (plus some other things that you might already have written) for next week.\n",
    "\n",
    "Step 1: Find a partner! This is a group project, so find a friend or two and form groups of NO MORE THAN 3 people. You can't work by yourself!\n",
    "\n",
    "Step 2: One member of the group will create a repo, and the other members will be \"collaborators\". The owner is responsible for approving the other member's pull requests.\n",
    "\n",
    "Step 2: As a group, your job is to make a simple program for class! Make a Jupyter notebook that contains a Python program that does Something™. What's Something™? Write a program with the following attributes:\n",
    "\n",
    "* It takes a name input\n",
    "* It takes some other input\n",
    "* It does Something™ with this other input\n",
    "    \n",
    "Step 3: In a file called `README.md`, write a description of your program and what it does, and list your group's members. \n",
    "\n",
    "Step 4: Make sure everyone in your group has **at least one commit**. That's how we'll be checking your work.\n",
    "\n",
    "Step 5: Submit the URL of your repo to Canvas! (**Note:** make sure you all join the same \"Version Control\" group on Canvas. This way, only one group member needs to submit the URL)\n",
    "\n"
   ]
  },
  {
   "cell_type": "markdown",
   "metadata": {},
   "source": [
    "## Part 2 - This Week: Documentation\n",
    "\n",
    "Your project for this week is to **write the documentation for your program**. You've written the jupyter notebook with the program last week, now you're going to supply the documenation for it, as if it was a real project.  So, beef up what you wrote last week! You choose what this project is; it can be anything you imagine, no matter how trivial or silly. Don't copy an existing project verbatim (that's plaigiarism, not to mention boring). \n",
    "\n",
    "You're going to submit at least three files to your GitHub repo from last week:\n",
    "\n",
    "1. ``README.md``\n",
    "2. ``LICENSE.md``\n",
    "3. ``CODE-OF-CONDUCT.md``\n",
    "\n",
    "## ``README.md``\n",
    "\n",
    "Your ``README`` should have, at least, the three parts that we discussed in lecture. Read over other READMEs to get an idea of what else you should include: you should definitely mention your code of conduct in the details of how to contribute to your project, and you should include how your software is licensed in your installation and use section. Anything else is up to you!\n",
    "\n",
    "## ``LICENSE.md``\n",
    "\n",
    "You can, if you want, write your own license. If you're a budding lawyer and want the practice, go for it! But most people will end up choosing an open-source license that already exists. Consider the benefits and drawbacks to different licenses, and think about how you want people to use your (theoretical) program.\n",
    "\n",
    "## ``CODE-OF-CONDUCT.md``\n",
    "\n",
    "Same deal as the license, although writing a code of conduct is a decidedly less boring process. You can either research and choose an existing CoC or roll your own; be able to justify and talk about why you made the choices you made, and think about who you want to encourage and discourage from participating in your (fake) open-source project.\n",
    "\n",
    "## Miscellany\n",
    "\n",
    "**IMPORTANT**: You should include, either in a separate text file or in your ``README``, a description of why you went with the license and code of conduct you did. If you made your own of either, talk about what you considered in the writing of it. No more than a few sentences, but be clear and concise in your justification.\n",
    "\n",
    "## Submitting\n",
    "\n",
    "You can write all of your Markdown on Jupyter Hub if you want, but be sure you create the three files separately. This will mean you copy and paste them into files with the extension `.md`. \n",
    "\n",
    "If you don't want to use Jupyter to write your documentation (probably a good choice), use a Markdown client of your choice. There are literally dozens of them...\n",
    "\n",
    "![dozens](https://media.giphy.com/media/ReBGGJtbXrjbQJwByP/giphy.gif)\n",
    "\n",
    "...but I highly recommend [Typora](https://typora.io/). It works on Mac, Windows, and Linux, and it's full-featured and compatible with basically everything you want. It's also really satisfying to use and generates beautifully-designed files.\n",
    "\n",
    "Make sure everyone in your group has **at least one commit**. That's how we'll be checking your work this week as well.\n",
    "\n",
    "Finally, like last week, submit the URL of your repo to Canvas. If you joined the same group on Canvas, only one of you needs to submit.\n"
   ]
  },
  {
   "cell_type": "markdown",
   "metadata": {},
   "source": [
    "## Help!\n",
    "\n",
    "As always, if you have any questions, come to office hours or email your TA."
   ]
  }
 ],
 "metadata": {
  "kernelspec": {
   "display_name": "Python 3",
   "language": "python",
   "name": "python3"
  },
  "language_info": {
   "codemirror_mode": {
    "name": "ipython",
    "version": 3
   },
   "file_extension": ".py",
   "mimetype": "text/x-python",
   "name": "python",
   "nbconvert_exporter": "python",
   "pygments_lexer": "ipython3",
   "version": "3.7.4"
  }
 },
 "nbformat": 4,
 "nbformat_minor": 4
}
